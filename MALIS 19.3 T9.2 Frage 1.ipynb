{
 "cells": [
  {
   "cell_type": "markdown",
   "metadata": {},
   "source": [
    "# MALIS 19.3 WPM_T9.2 Frage 1\n",
    "## Datenanalyse der offenen Daten der Seattle Library\n",
    "\n",
    "\n",
    "Die URL definiert in welcher Größe die Datenmengen abgerufen werden. So kann man die URL auf Zeilen (standartmäßig 1000) oder auf Jahre begrenzen. Für die Fragen wurde ist ein Limit von 3.000.000 Zeilen genommen, damit sind alle Checkouts des Jahres 2018 enthalten. \n",
   ]
  },
  {
   "cell_type": "markdown",
   "metadata": {},
   "source": [
    "# Frage \"Welcher Titel hat den höchsten Checkoutwert in dem Jahr 2018?\"\n",
    "\n",
    "Hierfür wird zunächst pandas nach Anleitung heruntergeladen. Dann werden die Daten importiert. Um den häufigst entliehenen Titel zu finden, wird nach der maximalen Anzahl an Checkouts gesucht und diese Zeile wird angezeigt."
   ]
  },
  {
   "cell_type": "code",
   "execution_count": 1,
   "metadata": {},
   "outputs": [],
   "source": [
    "import urllib.request\n",
    "import pandas as pd"
   ]
  },
  {
   "cell_type": "code",
   "execution_count": 2,
   "metadata": {},
   "outputs": [],
   "source": [
    "url = \"https://data.seattle.gov/resource/tmmm-ytt6.csv?$where=checkoutyear=2018&$limit=3000000\"\n",
    "ceins = \"Checkoutsall.csv\""
   ]
  },
  {
   "cell_type": "code",
   "execution_count": 3,
   "metadata": {},
   "outputs": [
    {
     "data": {
      "text/plain": [
       "('Checkoutsall.csv', <http.client.HTTPMessage at 0x11e12e590>)"
      ]
     },
     "execution_count": 3,
     "metadata": {},
     "output_type": "execute_result"
    }
   ],
   "source": [
    "# Download der Daten\n",
    "urllib.request.urlretrieve(url, ceins)"
   ]
  },
  {
   "cell_type": "code",
   "execution_count": 4,
   "metadata": {},
   "outputs": [],
   "source": [
    "checkout = pd.read_csv(ceins)"
   ]
  },
  {
   "cell_type": "code",
   "execution_count": 13,
   "metadata": {},
   "outputs": [
    {
     "data": {
      "text/html": [
       "<div>\n",
       "<style scoped>\n",
       "    .dataframe tbody tr th:only-of-type {\n",
       "        vertical-align: middle;\n",
       "    }\n",
       "\n",
       "    .dataframe tbody tr th {\n",
       "        vertical-align: top;\n",
       "    }\n",
       "\n",
       "    .dataframe thead th {\n",
       "        text-align: right;\n",
       "    }\n",
       "</style>\n",
       "<table border=\"1\" class=\"dataframe\">\n",
       "  <thead>\n",
       "    <tr style=\"text-align: right;\">\n",
       "      <th></th>\n",
       "      <th>usageclass</th>\n",
       "      <th>checkouttype</th>\n",
       "      <th>materialtype</th>\n",
       "      <th>checkoutyear</th>\n",
       "      <th>checkoutmonth</th>\n",
       "      <th>checkouts</th>\n",
       "      <th>title</th>\n",
       "      <th>creator</th>\n",
       "      <th>subjects</th>\n",
       "      <th>publisher</th>\n",
       "      <th>publicationyear</th>\n",
       "    </tr>\n",
       "  </thead>\n",
       "  <tbody>\n",
       "    <tr>\n",
       "      <th>0</th>\n",
       "      <td>Physical</td>\n",
       "      <td>Horizon</td>\n",
       "      <td>BOOK</td>\n",
       "      <td>2018</td>\n",
       "      <td>12</td>\n",
       "      <td>1</td>\n",
       "      <td>Naruto. Vol. 65, Hashirama and Madara / story ...</td>\n",
       "      <td>Kishimoto, Masashi, 1974-</td>\n",
       "      <td>Naruto Fictitious character Comic books strips...</td>\n",
       "      <td>VIZ Media,</td>\n",
       "      <td>[2014]</td>\n",
       "    </tr>\n",
       "    <tr>\n",
       "      <th>1</th>\n",
       "      <td>Physical</td>\n",
       "      <td>Horizon</td>\n",
       "      <td>BOOK</td>\n",
       "      <td>2018</td>\n",
       "      <td>12</td>\n",
       "      <td>2</td>\n",
       "      <td>Oishisō na shirokuma / Shibata Keiko.</td>\n",
       "      <td>Shibata, Keiko.</td>\n",
       "      <td>Polar bear Juvenile fiction, Food Juvenile fic...</td>\n",
       "      <td>Pīeichipīkenkyūjo,</td>\n",
       "      <td>2017.</td>\n",
       "    </tr>\n",
       "    <tr>\n",
       "      <th>2</th>\n",
       "      <td>Physical</td>\n",
       "      <td>Horizon</td>\n",
       "      <td>VIDEODISC</td>\n",
       "      <td>2018</td>\n",
       "      <td>12</td>\n",
       "      <td>7</td>\n",
       "      <td>Like crazy / Paramount Vantage ; Indian Paintb...</td>\n",
       "      <td>NaN</td>\n",
       "      <td>First loves Drama, College students Drama, Fea...</td>\n",
       "      <td>Paramount Home Entertainment,</td>\n",
       "      <td>[2012]</td>\n",
       "    </tr>\n",
       "    <tr>\n",
       "      <th>3</th>\n",
       "      <td>Digital</td>\n",
       "      <td>OverDrive</td>\n",
       "      <td>AUDIOBOOK</td>\n",
       "      <td>2018</td>\n",
       "      <td>12</td>\n",
       "      <td>3</td>\n",
       "      <td>Catch a Falling Heiress: American Heiress In L...</td>\n",
       "      <td>Laura Lee Guhrke</td>\n",
       "      <td>Fiction, Historical Fiction, Romance</td>\n",
       "      <td>HarperCollins Publishers Inc.</td>\n",
       "      <td>2016</td>\n",
       "    </tr>\n",
       "    <tr>\n",
       "      <th>4</th>\n",
       "      <td>Physical</td>\n",
       "      <td>Horizon</td>\n",
       "      <td>BOOK</td>\n",
       "      <td>2018</td>\n",
       "      <td>12</td>\n",
       "      <td>1</td>\n",
       "      <td>Literally show me a healthy person / Darcie Wi...</td>\n",
       "      <td>Wilder, Darcie</td>\n",
       "      <td>Young women Fiction, Grief Fiction</td>\n",
       "      <td>Tyrant Books,</td>\n",
       "      <td>[2017]</td>\n",
       "    </tr>\n",
       "    <tr>\n",
       "      <th>...</th>\n",
       "      <td>...</td>\n",
       "      <td>...</td>\n",
       "      <td>...</td>\n",
       "      <td>...</td>\n",
       "      <td>...</td>\n",
       "      <td>...</td>\n",
       "      <td>...</td>\n",
       "      <td>...</td>\n",
       "      <td>...</td>\n",
       "      <td>...</td>\n",
       "      <td>...</td>\n",
       "    </tr>\n",
       "    <tr>\n",
       "      <th>2665093</th>\n",
       "      <td>Digital</td>\n",
       "      <td>Hoopla</td>\n",
       "      <td>MUSIC</td>\n",
       "      <td>2018</td>\n",
       "      <td>1</td>\n",
       "      <td>1</td>\n",
       "      <td>The Snow Queen</td>\n",
       "      <td>NaN</td>\n",
       "      <td>Pop</td>\n",
       "      <td>LIGHTYEAR</td>\n",
       "      <td>NaN</td>\n",
       "    </tr>\n",
       "    <tr>\n",
       "      <th>2665094</th>\n",
       "      <td>Physical</td>\n",
       "      <td>Horizon</td>\n",
       "      <td>BOOK</td>\n",
       "      <td>2018</td>\n",
       "      <td>1</td>\n",
       "      <td>4</td>\n",
       "      <td>There was an old lady who swallowed a fly / il...</td>\n",
       "      <td>NaN</td>\n",
       "      <td>Nonsense verses Juvenile literature, Folk song...</td>\n",
       "      <td>Child's Play,</td>\n",
       "      <td>2002.</td>\n",
       "    </tr>\n",
       "    <tr>\n",
       "      <th>2665095</th>\n",
       "      <td>Physical</td>\n",
       "      <td>Horizon</td>\n",
       "      <td>BOOK</td>\n",
       "      <td>2018</td>\n",
       "      <td>1</td>\n",
       "      <td>2</td>\n",
       "      <td>The book of night women / Marlon James.</td>\n",
       "      <td>James, Marlon, 1970-</td>\n",
       "      <td>Slaves Fiction, Jamaica Fiction, Historical fi...</td>\n",
       "      <td>Riverhead Books,</td>\n",
       "      <td>2010.</td>\n",
       "    </tr>\n",
       "    <tr>\n",
       "      <th>2665096</th>\n",
       "      <td>Physical</td>\n",
       "      <td>Horizon</td>\n",
       "      <td>BOOK</td>\n",
       "      <td>2018</td>\n",
       "      <td>1</td>\n",
       "      <td>1</td>\n",
       "      <td>Hunting Eve / Iris Johansen.</td>\n",
       "      <td>Johansen, Iris</td>\n",
       "      <td>Duncan Eve Fictitious character Fiction, Track...</td>\n",
       "      <td>St. Martin's Press,</td>\n",
       "      <td>2013.</td>\n",
       "    </tr>\n",
       "    <tr>\n",
       "      <th>2665097</th>\n",
       "      <td>Physical</td>\n",
       "      <td>Horizon</td>\n",
       "      <td>BOOK</td>\n",
       "      <td>2018</td>\n",
       "      <td>1</td>\n",
       "      <td>1</td>\n",
       "      <td>Bienestar emocional / Osho ; traducción de Esp...</td>\n",
       "      <td>Osho, 1931-1990,</td>\n",
       "      <td>Emotions</td>\n",
       "      <td>Debolsillo,</td>\n",
       "      <td>2017.</td>\n",
       "    </tr>\n",
       "  </tbody>\n",
       "</table>\n",
       "<p>2665098 rows × 11 columns</p>\n",
       "</div>"
      ],
      "text/plain": [
       "        usageclass checkouttype materialtype  checkoutyear  checkoutmonth  \\\n",
       "0         Physical      Horizon         BOOK          2018             12   \n",
       "1         Physical      Horizon         BOOK          2018             12   \n",
       "2         Physical      Horizon    VIDEODISC          2018             12   \n",
       "3          Digital    OverDrive    AUDIOBOOK          2018             12   \n",
       "4         Physical      Horizon         BOOK          2018             12   \n",
       "...            ...          ...          ...           ...            ...   \n",
       "2665093    Digital       Hoopla        MUSIC          2018              1   \n",
       "2665094   Physical      Horizon         BOOK          2018              1   \n",
       "2665095   Physical      Horizon         BOOK          2018              1   \n",
       "2665096   Physical      Horizon         BOOK          2018              1   \n",
       "2665097   Physical      Horizon         BOOK          2018              1   \n",
       "\n",
       "         checkouts                                              title  \\\n",
       "0                1  Naruto. Vol. 65, Hashirama and Madara / story ...   \n",
       "1                2              Oishisō na shirokuma / Shibata Keiko.   \n",
       "2                7  Like crazy / Paramount Vantage ; Indian Paintb...   \n",
       "3                3  Catch a Falling Heiress: American Heiress In L...   \n",
       "4                1  Literally show me a healthy person / Darcie Wi...   \n",
       "...            ...                                                ...   \n",
       "2665093          1                                     The Snow Queen   \n",
       "2665094          4  There was an old lady who swallowed a fly / il...   \n",
       "2665095          2            The book of night women / Marlon James.   \n",
       "2665096          1                       Hunting Eve / Iris Johansen.   \n",
       "2665097          1  Bienestar emocional / Osho ; traducción de Esp...   \n",
       "\n",
       "                           creator  \\\n",
       "0        Kishimoto, Masashi, 1974-   \n",
       "1                  Shibata, Keiko.   \n",
       "2                              NaN   \n",
       "3                 Laura Lee Guhrke   \n",
       "4                   Wilder, Darcie   \n",
       "...                            ...   \n",
       "2665093                        NaN   \n",
       "2665094                        NaN   \n",
       "2665095       James, Marlon, 1970-   \n",
       "2665096             Johansen, Iris   \n",
       "2665097           Osho, 1931-1990,   \n",
       "\n",
       "                                                  subjects  \\\n",
       "0        Naruto Fictitious character Comic books strips...   \n",
       "1        Polar bear Juvenile fiction, Food Juvenile fic...   \n",
       "2        First loves Drama, College students Drama, Fea...   \n",
       "3                     Fiction, Historical Fiction, Romance   \n",
       "4                       Young women Fiction, Grief Fiction   \n",
       "...                                                    ...   \n",
       "2665093                                                Pop   \n",
       "2665094  Nonsense verses Juvenile literature, Folk song...   \n",
       "2665095  Slaves Fiction, Jamaica Fiction, Historical fi...   \n",
       "2665096  Duncan Eve Fictitious character Fiction, Track...   \n",
       "2665097                                           Emotions   \n",
       "\n",
       "                             publisher publicationyear  \n",
       "0                           VIZ Media,          [2014]  \n",
       "1                   Pīeichipīkenkyūjo,           2017.  \n",
       "2        Paramount Home Entertainment,          [2012]  \n",
       "3        HarperCollins Publishers Inc.            2016  \n",
       "4                        Tyrant Books,          [2017]  \n",
       "...                                ...             ...  \n",
       "2665093                      LIGHTYEAR             NaN  \n",
       "2665094                  Child's Play,           2002.  \n",
       "2665095               Riverhead Books,           2010.  \n",
       "2665096            St. Martin's Press,           2013.  \n",
       "2665097                    Debolsillo,           2017.  \n",
       "\n",
       "[2665098 rows x 11 columns]"
      ]
     },
     "execution_count": 13,
     "metadata": {},
     "output_type": "execute_result"
    }
   ],
   "source": [
    "# Anzeigen der Tabelle zur Kontrolle \n",
    "checkout"
   ]
  },
  {
   "cell_type": "code",
   "execution_count": 14,
   "metadata": {},
   "outputs": [
    {
     "data": {
      "text/plain": [
       "0          1\n",
       "1          2\n",
       "2          7\n",
       "3          3\n",
       "4          1\n",
       "          ..\n",
       "2665093    1\n",
       "2665094    4\n",
       "2665095    2\n",
       "2665096    1\n",
       "2665097    1\n",
       "Name: checkouts, Length: 2665098, dtype: int64"
      ]
     },
     "execution_count": 14,
     "metadata": {},
     "output_type": "execute_result"
    }
   ],
   "source": [
    "# Anzeige aller Checkouts\n",
    "checkout.checkouts"
   ]
  },
  {
   "cell_type": "code",
   "execution_count": 15,
   "metadata": {},
   "outputs": [],
   "source": [
    "# checkmax wird definiert, um im Folgenden die maximale Checkoutanzahl mit ganzer Zeile anzuzeigen\n",
    "checkmax = checkout.checkouts.max()"
   ]
  },
  {
   "cell_type": "code",
   "execution_count": 16,
   "metadata": {},
   "outputs": [
    {
     "data": {
      "text/plain": [
       "2073"
      ]
     },
     "execution_count": 16,
     "metadata": {},
     "output_type": "execute_result"
    }
   ],
   "source": [
    "checkmax"
   ]
  },
  {
   "cell_type": "code",
   "execution_count": 19,
   "metadata": {},
   "outputs": [],
   "source": [
    "# Anzeigen der Zeile mit höchster Checkout-Anzahl. Der meistausgeliehene Titel ist Past tense von Lee Child.\n",
    "loesung = checkout[checkout.checkouts >= checkmax]"
   ]
  },
  {
   "cell_type": "code",
   "execution_count": 20,
   "metadata": {},
   "outputs": [
    {
     "name": "stdout",
     "output_type": "stream",
     "text": [
      "       usageclass checkouttype materialtype  checkoutyear  checkoutmonth  \\\n",
      "594530   Physical      Horizon        MIXED          2018             10   \n",
      "\n",
      "        checkouts               title creator  \\\n",
      "594530       2073  FlexTech--Laptops.     NaN   \n",
      "\n",
      "                                                 subjects publisher  \\\n",
      "594530  Laptop computers, iPad Computer, Tablet computers   Lenovo,   \n",
      "\n",
      "       publicationyear  \n",
      "594530        [2013-].  \n"
     ]
    }
   ],
   "source": [
    "# Der in einem Monat am häufigsten ausgeliehen Titel ist FlexTech--Laptops.\n",
    "print (loesung)"
   ]
  },
  {
   "cell_type": "code",
   "execution_count": 29,
   "metadata": {},
   "outputs": [
    {
     "name": "stdout",
     "output_type": "stream",
     "text": [
      "594530    FlexTech--Laptops.\n",
      "Name: title, dtype: object\n"
     ]
    }
   ],
   "source": [
    "print (loesung.title)"
   ]
  },
  {
   "cell_type": "code",
   "execution_count": null,
   "metadata": {},
   "outputs": [],
   "source": []
  }
 ],
 "metadata": {
  "kernelspec": {
   "display_name": "Python 3",
   "language": "python",
   "name": "python3"
  },
  "language_info": {
   "codemirror_mode": {
    "name": "ipython",
    "version": 3
   },
   "file_extension": ".py",
   "mimetype": "text/x-python",
   "name": "python",
   "nbconvert_exporter": "python",
   "pygments_lexer": "ipython3",
   "version": "3.7.6"
  }
 },
 "nbformat": 4,
 "nbformat_minor": 4
}
